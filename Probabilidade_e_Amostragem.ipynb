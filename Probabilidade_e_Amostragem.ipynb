{
 "cells": [
  {
   "cell_type": "markdown",
   "id": "d491cfbc",
   "metadata": {},
   "source": [
    "# Entendendo o consumidor"
   ]
  },
  {
   "cell_type": "markdown",
   "id": "5e2f1e4f",
   "metadata": {},
   "source": [
    "Esse desafio proposto no Bootcamp Tech Minas tem como objetivo responder algumas perguntas através da análise de dados, aprofundando o conhecimento em Probabilidade e Amostragem.\n",
    "\n",
    "Suponha que você trabalha em uma empresa de produtos de beleza populares e, com a pandemia, você suspeita que o perfil de seus clientes mudou. O time de marketing, pediu a sua ajuda e gostaria de entender se 1. isso de fato aconteceu e 2. quais as diferenças do novo perfil de clientes para o antigo, pois assim poderiam personalizar melhor os seus anúncios. Para isso, eles te enviaram a base de dados *(desafio_01_consumidor.csv)*. Como você poderia ajudá-los?\n",
    "\n",
    "Para responder esse desafio:\n",
    "\n",
    "A base de dados: desafio_01_consumidor.csv contém informações de seus clientes (anonimizados) no período pré e pós pandemia. A coluna \"pré-pandemia\" indica se o dado é pré-pandemia ou não, sendo 1, caso positivo ou 0 caso negativo."
   ]
  },
  {
   "cell_type": "markdown",
   "id": "1598167f",
   "metadata": {},
   "source": [
    "# Bibliotecas"
   ]
  },
  {
   "cell_type": "code",
   "execution_count": 137,
   "id": "f5c602bb",
   "metadata": {},
   "outputs": [],
   "source": [
    "import pandas as pd\n",
    "import numpy as np\n",
    "import matplotlib.pyplot as plt\n",
    "import statistics\n",
    "import seaborn as sns\n",
    "from scipy.stats import norm"
   ]
  },
  {
   "cell_type": "markdown",
   "id": "33b8d22c",
   "metadata": {},
   "source": [
    "## Análise Exploratória"
   ]
  },
  {
   "cell_type": "code",
   "execution_count": 3,
   "id": "64045d5e",
   "metadata": {},
   "outputs": [
    {
     "data": {
      "text/html": [
       "<div>\n",
       "<style scoped>\n",
       "    .dataframe tbody tr th:only-of-type {\n",
       "        vertical-align: middle;\n",
       "    }\n",
       "\n",
       "    .dataframe tbody tr th {\n",
       "        vertical-align: top;\n",
       "    }\n",
       "\n",
       "    .dataframe thead th {\n",
       "        text-align: right;\n",
       "    }\n",
       "</style>\n",
       "<table border=\"1\" class=\"dataframe\">\n",
       "  <thead>\n",
       "    <tr style=\"text-align: right;\">\n",
       "      <th></th>\n",
       "      <th>id_cliente</th>\n",
       "      <th>idade</th>\n",
       "      <th>renda</th>\n",
       "      <th>produto</th>\n",
       "      <th>regiao-BR</th>\n",
       "      <th>pre-pandemia</th>\n",
       "    </tr>\n",
       "  </thead>\n",
       "  <tbody>\n",
       "    <tr>\n",
       "      <th>0</th>\n",
       "      <td>XXXXXXX72</td>\n",
       "      <td>30</td>\n",
       "      <td>7452</td>\n",
       "      <td>batom</td>\n",
       "      <td>Sudeste</td>\n",
       "      <td>1</td>\n",
       "    </tr>\n",
       "    <tr>\n",
       "      <th>1</th>\n",
       "      <td>XXXXXXX15</td>\n",
       "      <td>59</td>\n",
       "      <td>837</td>\n",
       "      <td>desodorante</td>\n",
       "      <td>Nordeste</td>\n",
       "      <td>1</td>\n",
       "    </tr>\n",
       "    <tr>\n",
       "      <th>2</th>\n",
       "      <td>XXXXXXX70</td>\n",
       "      <td>28</td>\n",
       "      <td>3231</td>\n",
       "      <td>sombra</td>\n",
       "      <td>Centro-Oeste</td>\n",
       "      <td>1</td>\n",
       "    </tr>\n",
       "    <tr>\n",
       "      <th>3</th>\n",
       "      <td>XXXXXXX99</td>\n",
       "      <td>27</td>\n",
       "      <td>5409</td>\n",
       "      <td>batom</td>\n",
       "      <td>Sul</td>\n",
       "      <td>1</td>\n",
       "    </tr>\n",
       "    <tr>\n",
       "      <th>4</th>\n",
       "      <td>XXXXXXX98</td>\n",
       "      <td>24</td>\n",
       "      <td>1142</td>\n",
       "      <td>batom</td>\n",
       "      <td>Sudeste</td>\n",
       "      <td>1</td>\n",
       "    </tr>\n",
       "  </tbody>\n",
       "</table>\n",
       "</div>"
      ],
      "text/plain": [
       "  id_cliente  idade  renda      produto     regiao-BR  pre-pandemia\n",
       "0  XXXXXXX72     30   7452        batom       Sudeste             1\n",
       "1  XXXXXXX15     59    837  desodorante      Nordeste             1\n",
       "2  XXXXXXX70     28   3231       sombra  Centro-Oeste             1\n",
       "3  XXXXXXX99     27   5409        batom           Sul             1\n",
       "4  XXXXXXX98     24   1142        batom       Sudeste             1"
      ]
     },
     "execution_count": 3,
     "metadata": {},
     "output_type": "execute_result"
    }
   ],
   "source": [
    "df = pd.read_csv(\"Data/desafio01consumidor.csv\")\n",
    "df.head()"
   ]
  },
  {
   "cell_type": "code",
   "execution_count": 9,
   "id": "b5e8eaca",
   "metadata": {},
   "outputs": [
    {
     "data": {
      "text/html": [
       "<div>\n",
       "<style scoped>\n",
       "    .dataframe tbody tr th:only-of-type {\n",
       "        vertical-align: middle;\n",
       "    }\n",
       "\n",
       "    .dataframe tbody tr th {\n",
       "        vertical-align: top;\n",
       "    }\n",
       "\n",
       "    .dataframe thead th {\n",
       "        text-align: right;\n",
       "    }\n",
       "</style>\n",
       "<table border=\"1\" class=\"dataframe\">\n",
       "  <thead>\n",
       "    <tr style=\"text-align: right;\">\n",
       "      <th></th>\n",
       "      <th>id_cliente</th>\n",
       "      <th>idade</th>\n",
       "      <th>renda</th>\n",
       "      <th>produto</th>\n",
       "      <th>regiao-BR</th>\n",
       "      <th>pre-pandemia</th>\n",
       "    </tr>\n",
       "  </thead>\n",
       "  <tbody>\n",
       "    <tr>\n",
       "      <th>198</th>\n",
       "      <td>XXXXXXX25</td>\n",
       "      <td>46</td>\n",
       "      <td>16918</td>\n",
       "      <td>desodorante</td>\n",
       "      <td>Sul</td>\n",
       "      <td>0</td>\n",
       "    </tr>\n",
       "    <tr>\n",
       "      <th>199</th>\n",
       "      <td>XXXXXXX50</td>\n",
       "      <td>43</td>\n",
       "      <td>10930</td>\n",
       "      <td>antissinais</td>\n",
       "      <td>Norte</td>\n",
       "      <td>0</td>\n",
       "    </tr>\n",
       "    <tr>\n",
       "      <th>200</th>\n",
       "      <td>XXXXXXX65</td>\n",
       "      <td>48</td>\n",
       "      <td>10246</td>\n",
       "      <td>perfume</td>\n",
       "      <td>Nordeste</td>\n",
       "      <td>0</td>\n",
       "    </tr>\n",
       "    <tr>\n",
       "      <th>201</th>\n",
       "      <td>XXXXXXX61</td>\n",
       "      <td>47</td>\n",
       "      <td>12337</td>\n",
       "      <td>batom</td>\n",
       "      <td>Sudeste</td>\n",
       "      <td>0</td>\n",
       "    </tr>\n",
       "    <tr>\n",
       "      <th>202</th>\n",
       "      <td>XXXXXXX89</td>\n",
       "      <td>58</td>\n",
       "      <td>14108</td>\n",
       "      <td>desodorante</td>\n",
       "      <td>Sul</td>\n",
       "      <td>0</td>\n",
       "    </tr>\n",
       "  </tbody>\n",
       "</table>\n",
       "</div>"
      ],
      "text/plain": [
       "    id_cliente  idade  renda      produto regiao-BR  pre-pandemia\n",
       "198  XXXXXXX25     46  16918  desodorante       Sul             0\n",
       "199  XXXXXXX50     43  10930  antissinais     Norte             0\n",
       "200  XXXXXXX65     48  10246      perfume  Nordeste             0\n",
       "201  XXXXXXX61     47  12337        batom   Sudeste             0\n",
       "202  XXXXXXX89     58  14108  desodorante       Sul             0"
      ]
     },
     "execution_count": 9,
     "metadata": {},
     "output_type": "execute_result"
    }
   ],
   "source": [
    "df.tail()"
   ]
  },
  {
   "cell_type": "code",
   "execution_count": 4,
   "id": "2d60d594",
   "metadata": {},
   "outputs": [
    {
     "name": "stdout",
     "output_type": "stream",
     "text": [
      "<class 'pandas.core.frame.DataFrame'>\n",
      "RangeIndex: 203 entries, 0 to 202\n",
      "Data columns (total 6 columns):\n",
      " #   Column        Non-Null Count  Dtype \n",
      "---  ------        --------------  ----- \n",
      " 0   id_cliente    203 non-null    object\n",
      " 1   idade         203 non-null    int64 \n",
      " 2   renda         203 non-null    int64 \n",
      " 3   produto       203 non-null    object\n",
      " 4   regiao-BR     203 non-null    object\n",
      " 5   pre-pandemia  203 non-null    int64 \n",
      "dtypes: int64(3), object(3)\n",
      "memory usage: 9.6+ KB\n"
     ]
    }
   ],
   "source": [
    "df.info()"
   ]
  },
  {
   "cell_type": "code",
   "execution_count": 5,
   "id": "6239bd39",
   "metadata": {},
   "outputs": [
    {
     "data": {
      "text/html": [
       "<div>\n",
       "<style scoped>\n",
       "    .dataframe tbody tr th:only-of-type {\n",
       "        vertical-align: middle;\n",
       "    }\n",
       "\n",
       "    .dataframe tbody tr th {\n",
       "        vertical-align: top;\n",
       "    }\n",
       "\n",
       "    .dataframe thead th {\n",
       "        text-align: right;\n",
       "    }\n",
       "</style>\n",
       "<table border=\"1\" class=\"dataframe\">\n",
       "  <thead>\n",
       "    <tr style=\"text-align: right;\">\n",
       "      <th></th>\n",
       "      <th>idade</th>\n",
       "      <th>renda</th>\n",
       "      <th>pre-pandemia</th>\n",
       "    </tr>\n",
       "  </thead>\n",
       "  <tbody>\n",
       "    <tr>\n",
       "      <th>count</th>\n",
       "      <td>203.000000</td>\n",
       "      <td>203.000000</td>\n",
       "      <td>203.000000</td>\n",
       "    </tr>\n",
       "    <tr>\n",
       "      <th>mean</th>\n",
       "      <td>42.403941</td>\n",
       "      <td>11586.364532</td>\n",
       "      <td>0.497537</td>\n",
       "    </tr>\n",
       "    <tr>\n",
       "      <th>std</th>\n",
       "      <td>14.400715</td>\n",
       "      <td>6288.016708</td>\n",
       "      <td>0.501230</td>\n",
       "    </tr>\n",
       "    <tr>\n",
       "      <th>min</th>\n",
       "      <td>15.000000</td>\n",
       "      <td>110.000000</td>\n",
       "      <td>0.000000</td>\n",
       "    </tr>\n",
       "    <tr>\n",
       "      <th>25%</th>\n",
       "      <td>31.000000</td>\n",
       "      <td>6705.000000</td>\n",
       "      <td>0.000000</td>\n",
       "    </tr>\n",
       "    <tr>\n",
       "      <th>50%</th>\n",
       "      <td>41.000000</td>\n",
       "      <td>11145.000000</td>\n",
       "      <td>0.000000</td>\n",
       "    </tr>\n",
       "    <tr>\n",
       "      <th>75%</th>\n",
       "      <td>53.000000</td>\n",
       "      <td>15590.500000</td>\n",
       "      <td>1.000000</td>\n",
       "    </tr>\n",
       "    <tr>\n",
       "      <th>max</th>\n",
       "      <td>80.000000</td>\n",
       "      <td>30000.000000</td>\n",
       "      <td>1.000000</td>\n",
       "    </tr>\n",
       "  </tbody>\n",
       "</table>\n",
       "</div>"
      ],
      "text/plain": [
       "            idade         renda  pre-pandemia\n",
       "count  203.000000    203.000000    203.000000\n",
       "mean    42.403941  11586.364532      0.497537\n",
       "std     14.400715   6288.016708      0.501230\n",
       "min     15.000000    110.000000      0.000000\n",
       "25%     31.000000   6705.000000      0.000000\n",
       "50%     41.000000  11145.000000      0.000000\n",
       "75%     53.000000  15590.500000      1.000000\n",
       "max     80.000000  30000.000000      1.000000"
      ]
     },
     "execution_count": 5,
     "metadata": {},
     "output_type": "execute_result"
    }
   ],
   "source": [
    "df.describe()"
   ]
  },
  {
   "cell_type": "code",
   "execution_count": 6,
   "id": "f6062ec7",
   "metadata": {},
   "outputs": [
    {
     "data": {
      "text/plain": [
       "array(['batom', 'desodorante', 'sombra', 'perfume', 'antissinais', 'base'],\n",
       "      dtype=object)"
      ]
     },
     "execution_count": 6,
     "metadata": {},
     "output_type": "execute_result"
    }
   ],
   "source": [
    "df[\"produto\"].unique()"
   ]
  },
  {
   "cell_type": "code",
   "execution_count": 7,
   "id": "3a063024",
   "metadata": {},
   "outputs": [
    {
     "data": {
      "text/plain": [
       "array([1, 0], dtype=int64)"
      ]
     },
     "execution_count": 7,
     "metadata": {},
     "output_type": "execute_result"
    }
   ],
   "source": [
    "df[\"pre-pandemia\"].unique()"
   ]
  },
  {
   "cell_type": "code",
   "execution_count": 8,
   "id": "93ece1e3",
   "metadata": {},
   "outputs": [
    {
     "data": {
      "text/plain": [
       "array(['Sudeste', 'Nordeste', 'Centro-Oeste', 'Sul', 'Norte'],\n",
       "      dtype=object)"
      ]
     },
     "execution_count": 8,
     "metadata": {},
     "output_type": "execute_result"
    }
   ],
   "source": [
    "df[\"regiao-BR\"].unique()"
   ]
  },
  {
   "cell_type": "markdown",
   "id": "a49ae6b1",
   "metadata": {},
   "source": [
    "## Processamento dos Dados"
   ]
  },
  {
   "cell_type": "code",
   "execution_count": 10,
   "id": "c4a94b68",
   "metadata": {},
   "outputs": [
    {
     "data": {
      "text/html": [
       "<div>\n",
       "<style scoped>\n",
       "    .dataframe tbody tr th:only-of-type {\n",
       "        vertical-align: middle;\n",
       "    }\n",
       "\n",
       "    .dataframe tbody tr th {\n",
       "        vertical-align: top;\n",
       "    }\n",
       "\n",
       "    .dataframe thead th {\n",
       "        text-align: right;\n",
       "    }\n",
       "</style>\n",
       "<table border=\"1\" class=\"dataframe\">\n",
       "  <thead>\n",
       "    <tr style=\"text-align: right;\">\n",
       "      <th></th>\n",
       "      <th>id_cliente</th>\n",
       "      <th>idade</th>\n",
       "      <th>renda</th>\n",
       "      <th>produto</th>\n",
       "      <th>regiao-BR</th>\n",
       "      <th>pre-pandemia</th>\n",
       "    </tr>\n",
       "  </thead>\n",
       "  <tbody>\n",
       "    <tr>\n",
       "      <th>0</th>\n",
       "      <td>XXXXXXX72</td>\n",
       "      <td>30</td>\n",
       "      <td>7452</td>\n",
       "      <td>batom</td>\n",
       "      <td>Sudeste</td>\n",
       "      <td>1</td>\n",
       "    </tr>\n",
       "    <tr>\n",
       "      <th>1</th>\n",
       "      <td>XXXXXXX15</td>\n",
       "      <td>59</td>\n",
       "      <td>837</td>\n",
       "      <td>desodorante</td>\n",
       "      <td>Nordeste</td>\n",
       "      <td>1</td>\n",
       "    </tr>\n",
       "    <tr>\n",
       "      <th>2</th>\n",
       "      <td>XXXXXXX70</td>\n",
       "      <td>28</td>\n",
       "      <td>3231</td>\n",
       "      <td>sombra</td>\n",
       "      <td>Centro-Oeste</td>\n",
       "      <td>1</td>\n",
       "    </tr>\n",
       "    <tr>\n",
       "      <th>3</th>\n",
       "      <td>XXXXXXX99</td>\n",
       "      <td>27</td>\n",
       "      <td>5409</td>\n",
       "      <td>batom</td>\n",
       "      <td>Sul</td>\n",
       "      <td>1</td>\n",
       "    </tr>\n",
       "    <tr>\n",
       "      <th>4</th>\n",
       "      <td>XXXXXXX98</td>\n",
       "      <td>24</td>\n",
       "      <td>1142</td>\n",
       "      <td>batom</td>\n",
       "      <td>Sudeste</td>\n",
       "      <td>1</td>\n",
       "    </tr>\n",
       "    <tr>\n",
       "      <th>...</th>\n",
       "      <td>...</td>\n",
       "      <td>...</td>\n",
       "      <td>...</td>\n",
       "      <td>...</td>\n",
       "      <td>...</td>\n",
       "      <td>...</td>\n",
       "    </tr>\n",
       "    <tr>\n",
       "      <th>96</th>\n",
       "      <td>XXXXXXX80</td>\n",
       "      <td>32</td>\n",
       "      <td>6251</td>\n",
       "      <td>antissinais</td>\n",
       "      <td>Norte</td>\n",
       "      <td>1</td>\n",
       "    </tr>\n",
       "    <tr>\n",
       "      <th>97</th>\n",
       "      <td>XXXXXXX92</td>\n",
       "      <td>43</td>\n",
       "      <td>2616</td>\n",
       "      <td>batom</td>\n",
       "      <td>Sul</td>\n",
       "      <td>1</td>\n",
       "    </tr>\n",
       "    <tr>\n",
       "      <th>98</th>\n",
       "      <td>XXXXXXX65</td>\n",
       "      <td>54</td>\n",
       "      <td>2324</td>\n",
       "      <td>antissinais</td>\n",
       "      <td>Norte</td>\n",
       "      <td>1</td>\n",
       "    </tr>\n",
       "    <tr>\n",
       "      <th>99</th>\n",
       "      <td>XXXXXXX79</td>\n",
       "      <td>61</td>\n",
       "      <td>12278</td>\n",
       "      <td>base</td>\n",
       "      <td>Centro-Oeste</td>\n",
       "      <td>1</td>\n",
       "    </tr>\n",
       "    <tr>\n",
       "      <th>100</th>\n",
       "      <td>XXXXXXX29</td>\n",
       "      <td>48</td>\n",
       "      <td>1286</td>\n",
       "      <td>batom</td>\n",
       "      <td>Nordeste</td>\n",
       "      <td>1</td>\n",
       "    </tr>\n",
       "  </tbody>\n",
       "</table>\n",
       "<p>101 rows × 6 columns</p>\n",
       "</div>"
      ],
      "text/plain": [
       "    id_cliente  idade  renda      produto     regiao-BR  pre-pandemia\n",
       "0    XXXXXXX72     30   7452        batom       Sudeste             1\n",
       "1    XXXXXXX15     59    837  desodorante      Nordeste             1\n",
       "2    XXXXXXX70     28   3231       sombra  Centro-Oeste             1\n",
       "3    XXXXXXX99     27   5409        batom           Sul             1\n",
       "4    XXXXXXX98     24   1142        batom       Sudeste             1\n",
       "..         ...    ...    ...          ...           ...           ...\n",
       "96   XXXXXXX80     32   6251  antissinais         Norte             1\n",
       "97   XXXXXXX92     43   2616        batom           Sul             1\n",
       "98   XXXXXXX65     54   2324  antissinais         Norte             1\n",
       "99   XXXXXXX79     61  12278         base  Centro-Oeste             1\n",
       "100  XXXXXXX29     48   1286        batom      Nordeste             1\n",
       "\n",
       "[101 rows x 6 columns]"
      ]
     },
     "execution_count": 10,
     "metadata": {},
     "output_type": "execute_result"
    }
   ],
   "source": [
    "df_pre_pandemia = df.loc[(df[\"pre-pandemia\"]==1)]\n",
    "df_pre_pandemia"
   ]
  },
  {
   "cell_type": "code",
   "execution_count": 11,
   "id": "fcbb0e84",
   "metadata": {},
   "outputs": [
    {
     "data": {
      "text/html": [
       "<div>\n",
       "<style scoped>\n",
       "    .dataframe tbody tr th:only-of-type {\n",
       "        vertical-align: middle;\n",
       "    }\n",
       "\n",
       "    .dataframe tbody tr th {\n",
       "        vertical-align: top;\n",
       "    }\n",
       "\n",
       "    .dataframe thead th {\n",
       "        text-align: right;\n",
       "    }\n",
       "</style>\n",
       "<table border=\"1\" class=\"dataframe\">\n",
       "  <thead>\n",
       "    <tr style=\"text-align: right;\">\n",
       "      <th></th>\n",
       "      <th>id_cliente</th>\n",
       "      <th>idade</th>\n",
       "      <th>renda</th>\n",
       "      <th>produto</th>\n",
       "      <th>regiao-BR</th>\n",
       "      <th>pre-pandemia</th>\n",
       "    </tr>\n",
       "  </thead>\n",
       "  <tbody>\n",
       "    <tr>\n",
       "      <th>101</th>\n",
       "      <td>XXXXXXX67</td>\n",
       "      <td>35</td>\n",
       "      <td>25959</td>\n",
       "      <td>batom</td>\n",
       "      <td>Sul</td>\n",
       "      <td>0</td>\n",
       "    </tr>\n",
       "    <tr>\n",
       "      <th>102</th>\n",
       "      <td>XXXXXXX60</td>\n",
       "      <td>35</td>\n",
       "      <td>1995</td>\n",
       "      <td>desodorante</td>\n",
       "      <td>Nordeste</td>\n",
       "      <td>0</td>\n",
       "    </tr>\n",
       "    <tr>\n",
       "      <th>103</th>\n",
       "      <td>XXXXXXX48</td>\n",
       "      <td>53</td>\n",
       "      <td>23314</td>\n",
       "      <td>antissinais</td>\n",
       "      <td>Centro-Oeste</td>\n",
       "      <td>0</td>\n",
       "    </tr>\n",
       "    <tr>\n",
       "      <th>104</th>\n",
       "      <td>XXXXXXX67</td>\n",
       "      <td>44</td>\n",
       "      <td>16693</td>\n",
       "      <td>antissinais</td>\n",
       "      <td>Centro-Oeste</td>\n",
       "      <td>0</td>\n",
       "    </tr>\n",
       "    <tr>\n",
       "      <th>105</th>\n",
       "      <td>XXXXXXX59</td>\n",
       "      <td>37</td>\n",
       "      <td>14631</td>\n",
       "      <td>base</td>\n",
       "      <td>Nordeste</td>\n",
       "      <td>0</td>\n",
       "    </tr>\n",
       "    <tr>\n",
       "      <th>...</th>\n",
       "      <td>...</td>\n",
       "      <td>...</td>\n",
       "      <td>...</td>\n",
       "      <td>...</td>\n",
       "      <td>...</td>\n",
       "      <td>...</td>\n",
       "    </tr>\n",
       "    <tr>\n",
       "      <th>198</th>\n",
       "      <td>XXXXXXX25</td>\n",
       "      <td>46</td>\n",
       "      <td>16918</td>\n",
       "      <td>desodorante</td>\n",
       "      <td>Sul</td>\n",
       "      <td>0</td>\n",
       "    </tr>\n",
       "    <tr>\n",
       "      <th>199</th>\n",
       "      <td>XXXXXXX50</td>\n",
       "      <td>43</td>\n",
       "      <td>10930</td>\n",
       "      <td>antissinais</td>\n",
       "      <td>Norte</td>\n",
       "      <td>0</td>\n",
       "    </tr>\n",
       "    <tr>\n",
       "      <th>200</th>\n",
       "      <td>XXXXXXX65</td>\n",
       "      <td>48</td>\n",
       "      <td>10246</td>\n",
       "      <td>perfume</td>\n",
       "      <td>Nordeste</td>\n",
       "      <td>0</td>\n",
       "    </tr>\n",
       "    <tr>\n",
       "      <th>201</th>\n",
       "      <td>XXXXXXX61</td>\n",
       "      <td>47</td>\n",
       "      <td>12337</td>\n",
       "      <td>batom</td>\n",
       "      <td>Sudeste</td>\n",
       "      <td>0</td>\n",
       "    </tr>\n",
       "    <tr>\n",
       "      <th>202</th>\n",
       "      <td>XXXXXXX89</td>\n",
       "      <td>58</td>\n",
       "      <td>14108</td>\n",
       "      <td>desodorante</td>\n",
       "      <td>Sul</td>\n",
       "      <td>0</td>\n",
       "    </tr>\n",
       "  </tbody>\n",
       "</table>\n",
       "<p>102 rows × 6 columns</p>\n",
       "</div>"
      ],
      "text/plain": [
       "    id_cliente  idade  renda      produto     regiao-BR  pre-pandemia\n",
       "101  XXXXXXX67     35  25959        batom           Sul             0\n",
       "102  XXXXXXX60     35   1995  desodorante      Nordeste             0\n",
       "103  XXXXXXX48     53  23314  antissinais  Centro-Oeste             0\n",
       "104  XXXXXXX67     44  16693  antissinais  Centro-Oeste             0\n",
       "105  XXXXXXX59     37  14631         base      Nordeste             0\n",
       "..         ...    ...    ...          ...           ...           ...\n",
       "198  XXXXXXX25     46  16918  desodorante           Sul             0\n",
       "199  XXXXXXX50     43  10930  antissinais         Norte             0\n",
       "200  XXXXXXX65     48  10246      perfume      Nordeste             0\n",
       "201  XXXXXXX61     47  12337        batom       Sudeste             0\n",
       "202  XXXXXXX89     58  14108  desodorante           Sul             0\n",
       "\n",
       "[102 rows x 6 columns]"
      ]
     },
     "execution_count": 11,
     "metadata": {},
     "output_type": "execute_result"
    }
   ],
   "source": [
    "df_pos_pandemia = df.loc[(df[\"pre-pandemia\"]==0)]\n",
    "df_pos_pandemia"
   ]
  },
  {
   "cell_type": "code",
   "execution_count": 12,
   "id": "4b87fcd3",
   "metadata": {},
   "outputs": [
    {
     "name": "stderr",
     "output_type": "stream",
     "text": [
      "C:\\Users\\talit\\anaconda3\\lib\\site-packages\\pandas\\core\\frame.py:4308: SettingWithCopyWarning: \n",
      "A value is trying to be set on a copy of a slice from a DataFrame\n",
      "\n",
      "See the caveats in the documentation: https://pandas.pydata.org/pandas-docs/stable/user_guide/indexing.html#returning-a-view-versus-a-copy\n",
      "  return super().drop(\n"
     ]
    }
   ],
   "source": [
    "df_pre_pandemia.drop([\"pre-pandemia\"],axis = 1,inplace = True)\n",
    "df_pos_pandemia.drop([\"pre-pandemia\"],axis = 1,inplace = True)"
   ]
  },
  {
   "cell_type": "code",
   "execution_count": 15,
   "id": "6068f98b",
   "metadata": {},
   "outputs": [
    {
     "name": "stdout",
     "output_type": "stream",
     "text": [
      "<class 'pandas.core.frame.DataFrame'>\n",
      "Int64Index: 101 entries, 0 to 100\n",
      "Data columns (total 5 columns):\n",
      " #   Column      Non-Null Count  Dtype \n",
      "---  ------      --------------  ----- \n",
      " 0   id_cliente  101 non-null    object\n",
      " 1   idade       101 non-null    int64 \n",
      " 2   renda       101 non-null    int64 \n",
      " 3   produto     101 non-null    object\n",
      " 4   regiao-BR   101 non-null    object\n",
      "dtypes: int64(2), object(3)\n",
      "memory usage: 4.7+ KB\n"
     ]
    }
   ],
   "source": [
    "df_pre_pandemia.info()"
   ]
  },
  {
   "cell_type": "code",
   "execution_count": 16,
   "id": "a8b5d808",
   "metadata": {},
   "outputs": [
    {
     "name": "stdout",
     "output_type": "stream",
     "text": [
      "<class 'pandas.core.frame.DataFrame'>\n",
      "Int64Index: 102 entries, 101 to 202\n",
      "Data columns (total 5 columns):\n",
      " #   Column      Non-Null Count  Dtype \n",
      "---  ------      --------------  ----- \n",
      " 0   id_cliente  102 non-null    object\n",
      " 1   idade       102 non-null    int64 \n",
      " 2   renda       102 non-null    int64 \n",
      " 3   produto     102 non-null    object\n",
      " 4   regiao-BR   102 non-null    object\n",
      "dtypes: int64(2), object(3)\n",
      "memory usage: 4.8+ KB\n"
     ]
    }
   ],
   "source": [
    "df_pos_pandemia.info()"
   ]
  },
  {
   "cell_type": "markdown",
   "id": "f941203c",
   "metadata": {},
   "source": [
    "**1. Entenda a distribuição de variáveis como de idade / renda / regiao / produtos mais comprados antes e depois da pandemia**"
   ]
  },
  {
   "cell_type": "code",
   "execution_count": 151,
   "id": "494ee467",
   "metadata": {},
   "outputs": [],
   "source": [
    "#função para cálculo de média, moda, mediana e desvio padrão \n",
    "\n",
    "def metricas(df_coluna,nome):\n",
    "    media = round(df_coluna.mean(),2)\n",
    "    mediana = round(statistics.median(df_coluna),2)\n",
    "    moda = round(statistics.mode(df_coluna),2)\n",
    "    desvio_padrao = round(df_coluna.std(),2)\n",
    "    \n",
    "    info = {\"media\":media,\n",
    "            \"mediana\":mediana,\n",
    "            \"moda\":moda,\n",
    "            \"desvio padrão\":desvio_padrao}\n",
    "    infos = pd.DataFrame(info,index=[nome])\n",
    "    \n",
    "    return infos"
   ]
  },
  {
   "cell_type": "code",
   "execution_count": 115,
   "id": "4530156c",
   "metadata": {},
   "outputs": [
    {
     "data": {
      "text/html": [
       "<div>\n",
       "<style scoped>\n",
       "    .dataframe tbody tr th:only-of-type {\n",
       "        vertical-align: middle;\n",
       "    }\n",
       "\n",
       "    .dataframe tbody tr th {\n",
       "        vertical-align: top;\n",
       "    }\n",
       "\n",
       "    .dataframe thead th {\n",
       "        text-align: right;\n",
       "    }\n",
       "</style>\n",
       "<table border=\"1\" class=\"dataframe\">\n",
       "  <thead>\n",
       "    <tr style=\"text-align: right;\">\n",
       "      <th></th>\n",
       "      <th>media</th>\n",
       "      <th>mediana</th>\n",
       "      <th>moda</th>\n",
       "      <th>desvio padrão</th>\n",
       "    </tr>\n",
       "  </thead>\n",
       "  <tbody>\n",
       "    <tr>\n",
       "      <th>Idade - pre_pandemia</th>\n",
       "      <td>39.88</td>\n",
       "      <td>37</td>\n",
       "      <td>26</td>\n",
       "      <td>15.02</td>\n",
       "    </tr>\n",
       "  </tbody>\n",
       "</table>\n",
       "</div>"
      ],
      "text/plain": [
       "                      media  mediana  moda  desvio padrão\n",
       "Idade - pre_pandemia  39.88       37    26          15.02"
      ]
     },
     "execution_count": 115,
     "metadata": {},
     "output_type": "execute_result"
    }
   ],
   "source": [
    "metricas(df_pre_pandemia[\"idade\"],\"Idade - pre_pandemia\")"
   ]
  },
  {
   "cell_type": "code",
   "execution_count": 116,
   "id": "08fbcf0e",
   "metadata": {},
   "outputs": [
    {
     "data": {
      "text/html": [
       "<div>\n",
       "<style scoped>\n",
       "    .dataframe tbody tr th:only-of-type {\n",
       "        vertical-align: middle;\n",
       "    }\n",
       "\n",
       "    .dataframe tbody tr th {\n",
       "        vertical-align: top;\n",
       "    }\n",
       "\n",
       "    .dataframe thead th {\n",
       "        text-align: right;\n",
       "    }\n",
       "</style>\n",
       "<table border=\"1\" class=\"dataframe\">\n",
       "  <thead>\n",
       "    <tr style=\"text-align: right;\">\n",
       "      <th></th>\n",
       "      <th>media</th>\n",
       "      <th>mediana</th>\n",
       "      <th>moda</th>\n",
       "      <th>desvio padrão</th>\n",
       "    </tr>\n",
       "  </thead>\n",
       "  <tbody>\n",
       "    <tr>\n",
       "      <th>Idade - pos_pandemia</th>\n",
       "      <td>44.9</td>\n",
       "      <td>46.0</td>\n",
       "      <td>56</td>\n",
       "      <td>13.37</td>\n",
       "    </tr>\n",
       "  </tbody>\n",
       "</table>\n",
       "</div>"
      ],
      "text/plain": [
       "                      media  mediana  moda  desvio padrão\n",
       "Idade - pos_pandemia   44.9     46.0    56          13.37"
      ]
     },
     "execution_count": 116,
     "metadata": {},
     "output_type": "execute_result"
    }
   ],
   "source": [
    "metricas(df_pos_pandemia[\"idade\"],\"Idade - pos_pandemia\")"
   ]
  },
  {
   "cell_type": "code",
   "execution_count": 117,
   "id": "ad33d46a",
   "metadata": {},
   "outputs": [
    {
     "data": {
      "text/html": [
       "<div>\n",
       "<style scoped>\n",
       "    .dataframe tbody tr th:only-of-type {\n",
       "        vertical-align: middle;\n",
       "    }\n",
       "\n",
       "    .dataframe tbody tr th {\n",
       "        vertical-align: top;\n",
       "    }\n",
       "\n",
       "    .dataframe thead th {\n",
       "        text-align: right;\n",
       "    }\n",
       "</style>\n",
       "<table border=\"1\" class=\"dataframe\">\n",
       "  <thead>\n",
       "    <tr style=\"text-align: right;\">\n",
       "      <th></th>\n",
       "      <th>media</th>\n",
       "      <th>mediana</th>\n",
       "      <th>moda</th>\n",
       "      <th>desvio padrão</th>\n",
       "    </tr>\n",
       "  </thead>\n",
       "  <tbody>\n",
       "    <tr>\n",
       "      <th>Renda - pre_pandemia</th>\n",
       "      <td>9180.64</td>\n",
       "      <td>7488</td>\n",
       "      <td>7452</td>\n",
       "      <td>6007.68</td>\n",
       "    </tr>\n",
       "  </tbody>\n",
       "</table>\n",
       "</div>"
      ],
      "text/plain": [
       "                        media  mediana  moda  desvio padrão\n",
       "Renda - pre_pandemia  9180.64     7488  7452        6007.68"
      ]
     },
     "execution_count": 117,
     "metadata": {},
     "output_type": "execute_result"
    }
   ],
   "source": [
    "metricas(df_pre_pandemia[\"renda\"],\"Renda - pre_pandemia\")"
   ]
  },
  {
   "cell_type": "code",
   "execution_count": 118,
   "id": "c2147ff3",
   "metadata": {},
   "outputs": [
    {
     "data": {
      "text/html": [
       "<div>\n",
       "<style scoped>\n",
       "    .dataframe tbody tr th:only-of-type {\n",
       "        vertical-align: middle;\n",
       "    }\n",
       "\n",
       "    .dataframe tbody tr th {\n",
       "        vertical-align: top;\n",
       "    }\n",
       "\n",
       "    .dataframe thead th {\n",
       "        text-align: right;\n",
       "    }\n",
       "</style>\n",
       "<table border=\"1\" class=\"dataframe\">\n",
       "  <thead>\n",
       "    <tr style=\"text-align: right;\">\n",
       "      <th></th>\n",
       "      <th>media</th>\n",
       "      <th>mediana</th>\n",
       "      <th>moda</th>\n",
       "      <th>desvio padrão</th>\n",
       "    </tr>\n",
       "  </thead>\n",
       "  <tbody>\n",
       "    <tr>\n",
       "      <th>Renda - pos_pandemia</th>\n",
       "      <td>13968.5</td>\n",
       "      <td>13380.5</td>\n",
       "      <td>25959</td>\n",
       "      <td>5641.38</td>\n",
       "    </tr>\n",
       "  </tbody>\n",
       "</table>\n",
       "</div>"
      ],
      "text/plain": [
       "                        media  mediana   moda  desvio padrão\n",
       "Renda - pos_pandemia  13968.5  13380.5  25959        5641.38"
      ]
     },
     "execution_count": 118,
     "metadata": {},
     "output_type": "execute_result"
    }
   ],
   "source": [
    "metricas(df_pos_pandemia[\"renda\"],\"Renda - pos_pandemia\")"
   ]
  },
  {
   "cell_type": "code",
   "execution_count": 57,
   "id": "3c46075b",
   "metadata": {},
   "outputs": [
    {
     "data": {
      "text/plain": [
       "batom          61\n",
       "desodorante    20\n",
       "antissinais     9\n",
       "perfume         4\n",
       "sombra          4\n",
       "base            3\n",
       "Name: produto, dtype: int64"
      ]
     },
     "execution_count": 57,
     "metadata": {},
     "output_type": "execute_result"
    }
   ],
   "source": [
    "df_pre_pandemia[\"produto\"].value_counts()"
   ]
  },
  {
   "cell_type": "code",
   "execution_count": 58,
   "id": "6930696b",
   "metadata": {},
   "outputs": [
    {
     "data": {
      "text/plain": [
       "desodorante    46\n",
       "antissinais    20\n",
       "batom          15\n",
       "sombra          9\n",
       "perfume         8\n",
       "base            4\n",
       "Name: produto, dtype: int64"
      ]
     },
     "execution_count": 58,
     "metadata": {},
     "output_type": "execute_result"
    }
   ],
   "source": [
    "df_pos_pandemia[\"produto\"].value_counts()"
   ]
  },
  {
   "cell_type": "markdown",
   "id": "9db2d351",
   "metadata": {},
   "source": [
    "Os dados de renda e idade não seguem uma distribuição normal não importando se foi antes ou depois da pandemia, pois em ambos os cenários a média, a mediana e a moda não têm o mesmo valor."
   ]
  },
  {
   "cell_type": "markdown",
   "id": "5ccf483f",
   "metadata": {},
   "source": [
    "## Visualização dos Dados"
   ]
  },
  {
   "cell_type": "code",
   "execution_count": 96,
   "id": "ca6f0e8e",
   "metadata": {},
   "outputs": [
    {
     "data": {
      "image/png": "[encoded data removed]",
      "text/plain": [
       "<Figure size 640x480 with 2 Axes>"
      ]
     },
     "metadata": {},
     "output_type": "display_data"
    }
   ],
   "source": [
    "df_pre_pandemia.hist(column=[\"idade\",\"renda\"],grid = False,color=\"#000B49\")\n",
    "plt.show()"
   ]
  },
  {
   "cell_type": "code",
   "execution_count": 95,
   "id": "1836cd50",
   "metadata": {},
   "outputs": [
    {
     "data": {
      "image/png": "[encoded data removed]",
      "text/plain": [
       "<Figure size 640x480 with 2 Axes>"
      ]
     },
     "metadata": {},
     "output_type": "display_data"
    }
   ],
   "source": [
    "df_pos_pandemia.hist(column=[\"idade\",\"renda\"],grid = False,color=\"#000B49\")\n",
    "plt.show()"
   ]
  },
  {
   "cell_type": "code",
   "execution_count": 92,
   "id": "9fc3192e",
   "metadata": {},
   "outputs": [
    {
     "data": {
      "image/png": "[encoded data removed]",
      "text/plain": [
       "<Figure size 640x480 with 1 Axes>"
      ]
     },
     "metadata": {},
     "output_type": "display_data"
    }
   ],
   "source": [
    "bplot = plt.boxplot(x=[df_pre_pandemia[\"idade\"],df_pos_pandemia[\"idade\"]],\n",
    "                   patch_artist=True, # ativa preenchimento com cor\n",
    "                   boxprops=dict(facecolor=\"#000B49\", color=\"#000B49\"),\n",
    "                    capprops=dict(color=\"#000B49\"),\n",
    "                    whiskerprops=dict(color=\"#000B49\"),\n",
    "                    flierprops=dict(markeredgecolor=\"#000B49\"),\n",
    "                    medianprops=dict(color=\"#FF7272\"))\n",
    "\n",
    "plt.xticks([1, 2], [\"Pre-pandemia: Idade\", \"Pos-pandemia: Idade\"])\n",
    "plt.show()"
   ]
  },
  {
   "cell_type": "code",
   "execution_count": 94,
   "id": "7b37ee0e",
   "metadata": {},
   "outputs": [
    {
     "data": {
      "image/png": "[encoded data removed]",
      "text/plain": [
       "<Figure size 640x480 with 1 Axes>"
      ]
     },
     "metadata": {},
     "output_type": "display_data"
    }
   ],
   "source": [
    "bplot = plt.boxplot(x=[df_pre_pandemia[\"renda\"],df_pos_pandemia[\"renda\"]],\n",
    "                   patch_artist=True, # ativa preenchimento com cor\n",
    "                   boxprops=dict(facecolor=\"#000B49\", color=\"#000B49\"),\n",
    "                    capprops=dict(color=\"#000B49\"),\n",
    "                    whiskerprops=dict(color=\"#000B49\"),\n",
    "                    flierprops=dict(markeredgecolor=\"#000B49\"),\n",
    "                    medianprops=dict(color=\"#FF7272\"))\n",
    "\n",
    "plt.xticks([1, 2], [\"Pre-pandemia: Renda\", \"Pos-pandemia: Renda\"])\n",
    "plt.show()"
   ]
  },
  {
   "cell_type": "code",
   "execution_count": 102,
   "id": "9705f601",
   "metadata": {},
   "outputs": [
    {
     "data": {
      "image/png": "[encoded data removed]",
      "text/plain": [
       "<Figure size 500x500 with 1 Axes>"
      ]
     },
     "metadata": {},
     "output_type": "display_data"
    }
   ],
   "source": [
    "sns.displot(data=df_pre_pandemia, x=\"renda\", y=\"idade\",color=\"#000B49\")\n",
    "plt.show()"
   ]
  },
  {
   "cell_type": "code",
   "execution_count": 103,
   "id": "4235a7c8",
   "metadata": {},
   "outputs": [
    {
     "data": {
      "image/png": "[encoded data removed]",
      "text/plain": [
       "<Figure size 500x500 with 1 Axes>"
      ]
     },
     "metadata": {},
     "output_type": "display_data"
    }
   ],
   "source": [
    "sns.displot(data=df_pos_pandemia, x=\"renda\", y=\"idade\",color=\"#000B49\")\n",
    "plt.show()"
   ]
  },
  {
   "cell_type": "code",
   "execution_count": 152,
   "id": "16e1a771",
   "metadata": {},
   "outputs": [],
   "source": [
    "#função retorna posição dos rótulos de dados nos bar chart\n",
    "def position(x):\n",
    "    posicao = [i for i in range(0,x,1)] \n",
    "    \n",
    "    return posicao\n",
    "\n",
    "#função retorna altura nos bar chart \n",
    "def height(dataset_name):\n",
    "    altura = [round(i,2) for i in dataset_name]\n",
    "    \n",
    "    return altura"
   ]
  },
  {
   "cell_type": "code",
   "execution_count": 174,
   "id": "8fb0e171",
   "metadata": {},
   "outputs": [
    {
     "data": {
      "image/png": "[encoded data removed]",
      "text/plain": [
       "<Figure size 640x480 with 1 Axes>"
      ]
     },
     "metadata": {},
     "output_type": "display_data"
    }
   ],
   "source": [
    "plt.bar(df_pre_pandemia[\"produto\"].unique(),df_pre_pandemia[\"produto\"].value_counts(),color=\"#000B49\")\n",
    "plt.title(\"Total de Vendas de Produtos Pré-Pandemia\")\n",
    "plt.xticks(rotation = 45)\n",
    "\n",
    "#Colocando a quantidade em cada barra -> x=posição, y=altura, s=altura\n",
    "for i in range(len(df[\"produto\"].unique())):\n",
    "   plt.text(x = position(6)[i] - 0.15,\n",
    "                y = height(df_pre_pandemia[\"produto\"].value_counts())[i]+0.5,\n",
    "                s = str(height(df_pre_pandemia[\"produto\"].value_counts())[i]),\n",
    "                fontsize=10)\n",
    "\n",
    "plt.show()"
   ]
  },
  {
   "cell_type": "code",
   "execution_count": 175,
   "id": "b696d676",
   "metadata": {},
   "outputs": [
    {
     "data": {
      "image/png": "[encoded data removed]",
      "text/plain": [
       "<Figure size 640x480 with 1 Axes>"
      ]
     },
     "metadata": {},
     "output_type": "display_data"
    }
   ],
   "source": [
    "plt.bar(df_pos_pandemia[\"produto\"].unique(),df_pos_pandemia[\"produto\"].value_counts(),color=\"#000B49\")\n",
    "plt.title(\"Total de Vendas de Produtos Pré-Pandemia\")\n",
    "plt.xticks(rotation = 45)\n",
    "\n",
    "#Colocando a quantidade em cada barra -> x=posição, y=altura, s=altura\n",
    "for i in range(len(df[\"produto\"].unique())):\n",
    "   plt.text(x = position(6)[i] - 0.15,\n",
    "                y = height(df_pos_pandemia[\"produto\"].value_counts())[i]+0.5,\n",
    "                s = str(height(df_pos_pandemia[\"produto\"].value_counts())[i]),\n",
    "                fontsize=10)\n",
    "\n",
    "plt.show()"
   ]
  },
  {
   "cell_type": "markdown",
   "id": "7d87d756",
   "metadata": {},
   "source": [
    "## Desafio 1"
   ]
  },
  {
   "cell_type": "markdown",
   "id": "1cc3cb8e",
   "metadata": {},
   "source": [
    " Suponha agora que os dados recebidos são somente uma amostra da sua população total de clientes. Suponha que a sua \"população\" de clientes verdadeira é de 100000. Qual o tamanho da amostra necessária para chegarmos a conclusões com 95% de confiança e 2% de margem de erro? A base informada é suficiente? E com uma margem de erro de 10%?"
   ]
  },
  {
   "cell_type": "code",
   "execution_count": 106,
   "id": "c4861323",
   "metadata": {},
   "outputs": [],
   "source": [
    "N = 10000 #tamanho da amostra\n",
    "e = 0.02"
   ]
  },
  {
   "cell_type": "code",
   "execution_count": 105,
   "id": "bbee1515",
   "metadata": {},
   "outputs": [
    {
     "data": {
      "text/plain": [
       "1.959963984540054"
      ]
     },
     "execution_count": 105,
     "metadata": {},
     "output_type": "execute_result"
    }
   ],
   "source": [
    "#Obtendo Z\n",
    "z = norm.ppf((0.5 + (0.95 / 2)))\n",
    "z"
   ]
  },
  {
   "cell_type": "code",
   "execution_count": null,
   "id": "d6130874",
   "metadata": {},
   "outputs": [],
   "source": []
  },
  {
   "cell_type": "code",
   "execution_count": null,
   "id": "3ec30a15",
   "metadata": {},
   "outputs": [],
   "source": []
  },
  {
   "cell_type": "markdown",
   "id": "2032cc26",
   "metadata": {},
   "source": [
    "# Determinando o Estoque de Segurança"
   ]
  },
  {
   "cell_type": "markdown",
   "id": "c9365cbb",
   "metadata": {},
   "source": [
    "Suponha agora que você trabalha em uma empresa de produtos perecíveis, como Danone ou Nestlé. Para a empresa, é muito importante que a sua política de estoque seja eficiente. É necessário manter um estoque de segurança em todos os produtos (acima da previsão de vendas), pois, caso contrário, as pessoas podem não encontrar os produtos no supermercado. Mas, ao mesmo tempo, se o estoque estiver em excesso, isso pode representar um grande custo. Os produtos podem não ser comprados, e consequentemente, jogados fora, o que na indústria se chama \"desova\". Para achar o equilíbrio perfeito, o gerente de vendas pediu a ajuda a você, do time de análise de dados, e ele gostaria de saber qual o estoque de segurança ideal.\n"
   ]
  },
  {
   "cell_type": "code",
   "execution_count": 107,
   "id": "3c6f2521",
   "metadata": {},
   "outputs": [
    {
     "data": {
      "text/html": [
       "<div>\n",
       "<style scoped>\n",
       "    .dataframe tbody tr th:only-of-type {\n",
       "        vertical-align: middle;\n",
       "    }\n",
       "\n",
       "    .dataframe tbody tr th {\n",
       "        vertical-align: top;\n",
       "    }\n",
       "\n",
       "    .dataframe thead th {\n",
       "        text-align: right;\n",
       "    }\n",
       "</style>\n",
       "<table border=\"1\" class=\"dataframe\">\n",
       "  <thead>\n",
       "    <tr style=\"text-align: right;\">\n",
       "      <th></th>\n",
       "      <th>data</th>\n",
       "      <th>vendas-iogurte</th>\n",
       "      <th>lead-time</th>\n",
       "    </tr>\n",
       "  </thead>\n",
       "  <tbody>\n",
       "    <tr>\n",
       "      <th>0</th>\n",
       "      <td>2015-01-04</td>\n",
       "      <td>5083</td>\n",
       "      <td>4</td>\n",
       "    </tr>\n",
       "    <tr>\n",
       "      <th>1</th>\n",
       "      <td>2015-01-11</td>\n",
       "      <td>4936</td>\n",
       "      <td>3</td>\n",
       "    </tr>\n",
       "    <tr>\n",
       "      <th>2</th>\n",
       "      <td>2015-01-18</td>\n",
       "      <td>5051</td>\n",
       "      <td>6</td>\n",
       "    </tr>\n",
       "    <tr>\n",
       "      <th>3</th>\n",
       "      <td>2015-01-25</td>\n",
       "      <td>4846</td>\n",
       "      <td>4</td>\n",
       "    </tr>\n",
       "    <tr>\n",
       "      <th>4</th>\n",
       "      <td>2015-02-01</td>\n",
       "      <td>5003</td>\n",
       "      <td>5</td>\n",
       "    </tr>\n",
       "    <tr>\n",
       "      <th>...</th>\n",
       "      <td>...</td>\n",
       "      <td>...</td>\n",
       "      <td>...</td>\n",
       "    </tr>\n",
       "    <tr>\n",
       "      <th>365</th>\n",
       "      <td>2022-01-02</td>\n",
       "      <td>5120</td>\n",
       "      <td>5</td>\n",
       "    </tr>\n",
       "    <tr>\n",
       "      <th>366</th>\n",
       "      <td>2022-01-09</td>\n",
       "      <td>4968</td>\n",
       "      <td>3</td>\n",
       "    </tr>\n",
       "    <tr>\n",
       "      <th>367</th>\n",
       "      <td>2022-01-16</td>\n",
       "      <td>5095</td>\n",
       "      <td>6</td>\n",
       "    </tr>\n",
       "    <tr>\n",
       "      <th>368</th>\n",
       "      <td>2022-01-23</td>\n",
       "      <td>4941</td>\n",
       "      <td>6</td>\n",
       "    </tr>\n",
       "    <tr>\n",
       "      <th>369</th>\n",
       "      <td>2022-01-30</td>\n",
       "      <td>5020</td>\n",
       "      <td>8</td>\n",
       "    </tr>\n",
       "  </tbody>\n",
       "</table>\n",
       "<p>370 rows × 3 columns</p>\n",
       "</div>"
      ],
      "text/plain": [
       "           data  vendas-iogurte  lead-time\n",
       "0    2015-01-04            5083          4\n",
       "1    2015-01-11            4936          3\n",
       "2    2015-01-18            5051          6\n",
       "3    2015-01-25            4846          4\n",
       "4    2015-02-01            5003          5\n",
       "..          ...             ...        ...\n",
       "365  2022-01-02            5120          5\n",
       "366  2022-01-09            4968          3\n",
       "367  2022-01-16            5095          6\n",
       "368  2022-01-23            4941          6\n",
       "369  2022-01-30            5020          8\n",
       "\n",
       "[370 rows x 3 columns]"
      ]
     },
     "execution_count": 107,
     "metadata": {},
     "output_type": "execute_result"
    }
   ],
   "source": [
    "df2 = pd.read_csv(\"Data/desafio_02_estoque.csv\")\n",
    "df2"
   ]
  },
  {
   "cell_type": "markdown",
   "id": "c81f9b0c",
   "metadata": {},
   "source": [
    "## Análise Exploratória dos Dados"
   ]
  },
  {
   "cell_type": "code",
   "execution_count": 108,
   "id": "bef5ee8e",
   "metadata": {},
   "outputs": [
    {
     "data": {
      "text/html": [
       "<div>\n",
       "<style scoped>\n",
       "    .dataframe tbody tr th:only-of-type {\n",
       "        vertical-align: middle;\n",
       "    }\n",
       "\n",
       "    .dataframe tbody tr th {\n",
       "        vertical-align: top;\n",
       "    }\n",
       "\n",
       "    .dataframe thead th {\n",
       "        text-align: right;\n",
       "    }\n",
       "</style>\n",
       "<table border=\"1\" class=\"dataframe\">\n",
       "  <thead>\n",
       "    <tr style=\"text-align: right;\">\n",
       "      <th></th>\n",
       "      <th>vendas-iogurte</th>\n",
       "      <th>lead-time</th>\n",
       "    </tr>\n",
       "  </thead>\n",
       "  <tbody>\n",
       "    <tr>\n",
       "      <th>count</th>\n",
       "      <td>370.000000</td>\n",
       "      <td>370.000000</td>\n",
       "    </tr>\n",
       "    <tr>\n",
       "      <th>mean</th>\n",
       "      <td>4999.170270</td>\n",
       "      <td>5.094595</td>\n",
       "    </tr>\n",
       "    <tr>\n",
       "      <th>std</th>\n",
       "      <td>77.285068</td>\n",
       "      <td>1.578728</td>\n",
       "    </tr>\n",
       "    <tr>\n",
       "      <th>min</th>\n",
       "      <td>4811.000000</td>\n",
       "      <td>1.000000</td>\n",
       "    </tr>\n",
       "    <tr>\n",
       "      <th>25%</th>\n",
       "      <td>4947.000000</td>\n",
       "      <td>4.000000</td>\n",
       "    </tr>\n",
       "    <tr>\n",
       "      <th>50%</th>\n",
       "      <td>4996.000000</td>\n",
       "      <td>5.000000</td>\n",
       "    </tr>\n",
       "    <tr>\n",
       "      <th>75%</th>\n",
       "      <td>5054.000000</td>\n",
       "      <td>6.000000</td>\n",
       "    </tr>\n",
       "    <tr>\n",
       "      <th>max</th>\n",
       "      <td>5233.000000</td>\n",
       "      <td>9.000000</td>\n",
       "    </tr>\n",
       "  </tbody>\n",
       "</table>\n",
       "</div>"
      ],
      "text/plain": [
       "       vendas-iogurte   lead-time\n",
       "count      370.000000  370.000000\n",
       "mean      4999.170270    5.094595\n",
       "std         77.285068    1.578728\n",
       "min       4811.000000    1.000000\n",
       "25%       4947.000000    4.000000\n",
       "50%       4996.000000    5.000000\n",
       "75%       5054.000000    6.000000\n",
       "max       5233.000000    9.000000"
      ]
     },
     "execution_count": 108,
     "metadata": {},
     "output_type": "execute_result"
    }
   ],
   "source": [
    "df2.describe()"
   ]
  },
  {
   "cell_type": "code",
   "execution_count": 109,
   "id": "8b8a826b",
   "metadata": {},
   "outputs": [
    {
     "name": "stdout",
     "output_type": "stream",
     "text": [
      "<class 'pandas.core.frame.DataFrame'>\n",
      "RangeIndex: 370 entries, 0 to 369\n",
      "Data columns (total 3 columns):\n",
      " #   Column          Non-Null Count  Dtype \n",
      "---  ------          --------------  ----- \n",
      " 0   data            370 non-null    object\n",
      " 1   vendas-iogurte  370 non-null    int64 \n",
      " 2   lead-time       370 non-null    int64 \n",
      "dtypes: int64(2), object(1)\n",
      "memory usage: 8.8+ KB\n"
     ]
    }
   ],
   "source": [
    "df2.info()"
   ]
  },
  {
   "cell_type": "code",
   "execution_count": 111,
   "id": "131b8b81",
   "metadata": {},
   "outputs": [
    {
     "name": "stdout",
     "output_type": "stream",
     "text": [
      "<class 'pandas.core.frame.DataFrame'>\n",
      "RangeIndex: 370 entries, 0 to 369\n",
      "Data columns (total 3 columns):\n",
      " #   Column          Non-Null Count  Dtype         \n",
      "---  ------          --------------  -----         \n",
      " 0   data            370 non-null    datetime64[ns]\n",
      " 1   vendas-iogurte  370 non-null    int64         \n",
      " 2   lead-time       370 non-null    int64         \n",
      "dtypes: datetime64[ns](1), int64(2)\n",
      "memory usage: 8.8 KB\n"
     ]
    }
   ],
   "source": [
    "df2[\"data\"] = pd.to_datetime(df2[\"data\"])\n",
    "df2.info()"
   ]
  },
  {
   "cell_type": "markdown",
   "id": "e514d78d",
   "metadata": {},
   "source": [
    "## Processamento dos Dados"
   ]
  },
  {
   "cell_type": "markdown",
   "id": "3b8f1e7a",
   "metadata": {},
   "source": [
    "1. Analise os dados das vendas e do lead time. Eles seguem uma distribuição normal? Que características você identificou para chegar a essa conclusão?"
   ]
  },
  {
   "cell_type": "code",
   "execution_count": 135,
   "id": "3852300d",
   "metadata": {},
   "outputs": [
    {
     "data": {
      "text/html": [
       "<div>\n",
       "<style scoped>\n",
       "    .dataframe tbody tr th:only-of-type {\n",
       "        vertical-align: middle;\n",
       "    }\n",
       "\n",
       "    .dataframe tbody tr th {\n",
       "        vertical-align: top;\n",
       "    }\n",
       "\n",
       "    .dataframe thead th {\n",
       "        text-align: right;\n",
       "    }\n",
       "</style>\n",
       "<table border=\"1\" class=\"dataframe\">\n",
       "  <thead>\n",
       "    <tr style=\"text-align: right;\">\n",
       "      <th></th>\n",
       "      <th>media</th>\n",
       "      <th>mediana</th>\n",
       "      <th>moda</th>\n",
       "      <th>desvio padrão</th>\n",
       "    </tr>\n",
       "  </thead>\n",
       "  <tbody>\n",
       "    <tr>\n",
       "      <th>Vendas - Iogurte</th>\n",
       "      <td>4999.17</td>\n",
       "      <td>4996.0</td>\n",
       "      <td>5020</td>\n",
       "      <td>77.29</td>\n",
       "    </tr>\n",
       "  </tbody>\n",
       "</table>\n",
       "</div>"
      ],
      "text/plain": [
       "                    media  mediana  moda  desvio padrão\n",
       "Vendas - Iogurte  4999.17   4996.0  5020          77.29"
      ]
     },
     "execution_count": 135,
     "metadata": {},
     "output_type": "execute_result"
    }
   ],
   "source": [
    "dados_vendas = metricas(df2[\"vendas-iogurte\"],\"Vendas - Iogurte\")\n",
    "dados_vendas"
   ]
  },
  {
   "cell_type": "code",
   "execution_count": 131,
   "id": "b13ef247",
   "metadata": {},
   "outputs": [
    {
     "data": {
      "text/html": [
       "<div>\n",
       "<style scoped>\n",
       "    .dataframe tbody tr th:only-of-type {\n",
       "        vertical-align: middle;\n",
       "    }\n",
       "\n",
       "    .dataframe tbody tr th {\n",
       "        vertical-align: top;\n",
       "    }\n",
       "\n",
       "    .dataframe thead th {\n",
       "        text-align: right;\n",
       "    }\n",
       "</style>\n",
       "<table border=\"1\" class=\"dataframe\">\n",
       "  <thead>\n",
       "    <tr style=\"text-align: right;\">\n",
       "      <th></th>\n",
       "      <th>media</th>\n",
       "      <th>mediana</th>\n",
       "      <th>moda</th>\n",
       "      <th>desvio padrão</th>\n",
       "    </tr>\n",
       "  </thead>\n",
       "  <tbody>\n",
       "    <tr>\n",
       "      <th>Lead time</th>\n",
       "      <td>5.09</td>\n",
       "      <td>5.0</td>\n",
       "      <td>5</td>\n",
       "      <td>1.58</td>\n",
       "    </tr>\n",
       "  </tbody>\n",
       "</table>\n",
       "</div>"
      ],
      "text/plain": [
       "           media  mediana  moda  desvio padrão\n",
       "Lead time   5.09      5.0     5           1.58"
      ]
     },
     "execution_count": 131,
     "metadata": {},
     "output_type": "execute_result"
    }
   ],
   "source": [
    "dados_lead = metricas(df2[\"lead-time\"],\"Lead time\")\n",
    "dados_lead"
   ]
  },
  {
   "cell_type": "markdown",
   "id": "f9468581",
   "metadata": {},
   "source": [
    "Os dados de vendas não seguem uma distribuição normal, pois a média, mediana e moda não apresentam o mesmo valor, embora sejam bem próximos. Já o lead-time segue uma distribuição normal."
   ]
  },
  {
   "cell_type": "markdown",
   "id": "ea7fb3b5",
   "metadata": {},
   "source": [
    "## Visualização dos Dados"
   ]
  },
  {
   "cell_type": "code",
   "execution_count": 121,
   "id": "7b3cad75",
   "metadata": {},
   "outputs": [
    {
     "data": {
      "image/png": "[encoded data removed]",
      "text/plain": [
       "<Figure size 640x480 with 2 Axes>"
      ]
     },
     "metadata": {},
     "output_type": "display_data"
    }
   ],
   "source": [
    "df2.hist(column=[\"vendas-iogurte\",\"lead-time\"],grid = False,color=\"#000B49\")\n",
    "plt.show()"
   ]
  },
  {
   "cell_type": "code",
   "execution_count": 124,
   "id": "5d5c74ea",
   "metadata": {},
   "outputs": [
    {
     "data": {
      "image/png": "[encoded data removed]",
      "text/plain": [
       "<Figure size 640x480 with 1 Axes>"
      ]
     },
     "metadata": {},
     "output_type": "display_data"
    }
   ],
   "source": [
    "bplot = plt.boxplot(x=[df2[\"vendas-iogurte\"]],\n",
    "                   patch_artist=True, # ativa preenchimento com cor\n",
    "                   boxprops=dict(facecolor=\"#000B49\", color=\"#000B49\"),\n",
    "                    capprops=dict(color=\"#000B49\"),\n",
    "                    whiskerprops=dict(color=\"#000B49\"),\n",
    "                    flierprops=dict(markeredgecolor=\"#000B49\"),\n",
    "                    medianprops=dict(color=\"#FF7272\"))\n",
    "\n",
    "plt.xticks([1], [\"vendas-iogurte\"])\n",
    "plt.show()"
   ]
  },
  {
   "cell_type": "code",
   "execution_count": 123,
   "id": "ba13a9d0",
   "metadata": {},
   "outputs": [
    {
     "data": {
      "image/png": "[encoded data removed]",
      "text/plain": [
       "<Figure size 640x480 with 1 Axes>"
      ]
     },
     "metadata": {},
     "output_type": "display_data"
    }
   ],
   "source": [
    "bplot = plt.boxplot(x=[df2[\"lead-time\"]],\n",
    "                   patch_artist=True, # ativa preenchimento com cor\n",
    "                   boxprops=dict(facecolor=\"#000B49\", color=\"#000B49\"),\n",
    "                    capprops=dict(color=\"#000B49\"),\n",
    "                    whiskerprops=dict(color=\"#000B49\"),\n",
    "                    flierprops=dict(markeredgecolor=\"#000B49\"),\n",
    "                    medianprops=dict(color=\"#FF7272\"))\n",
    "\n",
    "plt.xticks([1], [\"lead-time\"])\n",
    "plt.show()"
   ]
  },
  {
   "cell_type": "markdown",
   "id": "60fbfad5",
   "metadata": {},
   "source": [
    "## Desafio 2"
   ]
  },
  {
   "cell_type": "markdown",
   "id": "8f17e818",
   "metadata": {},
   "source": [
    "Assuma que:\n",
    "\n",
    "    a. Os dados seguem uma distribuição normal.\n",
    "\n",
    "    b. O time de vendas utilize para o produto em questão o nível de serviço de 99,87%\n",
    "\n",
    "    c. O produto não tem sazonalidade (todos os meses vende valores próximos) e a demanda média passada é uma boa estimativa para a projetada, de acordo com o time de planejamento de demanda.\n",
    "    \n",
    "Calcule, com os dados fornecidos, o estoque de segurança desejado.\n"
   ]
  },
  {
   "cell_type": "code",
   "execution_count": 125,
   "id": "0be68686",
   "metadata": {},
   "outputs": [
    {
     "data": {
      "text/plain": [
       "3.011453758499792"
      ]
     },
     "execution_count": 125,
     "metadata": {},
     "output_type": "execute_result"
    }
   ],
   "source": [
    "#Obtendo Z\n",
    "z = norm.ppf(0.9987)\n",
    "z"
   ]
  },
  {
   "cell_type": "code",
   "execution_count": 139,
   "id": "1abd59b0",
   "metadata": {},
   "outputs": [
    {
     "data": {
      "text/plain": [
       "5.09"
      ]
     },
     "execution_count": 139,
     "metadata": {},
     "output_type": "execute_result"
    }
   ],
   "source": [
    "media_lead_time = dados_lead[\"media\"][0]\n",
    "media_lead_time"
   ]
  },
  {
   "cell_type": "code",
   "execution_count": 136,
   "id": "d99262a1",
   "metadata": {},
   "outputs": [
    {
     "data": {
      "text/plain": [
       "77.29"
      ]
     },
     "execution_count": 136,
     "metadata": {},
     "output_type": "execute_result"
    }
   ],
   "source": [
    "desvio_padrao_vendas = dados_vendas[\"desvio padrão\"][0]\n",
    "desvio_padrao_vendas"
   ]
  },
  {
   "cell_type": "code",
   "execution_count": 142,
   "id": "df65a257",
   "metadata": {},
   "outputs": [
    {
     "name": "stdout",
     "output_type": "stream",
     "text": [
      "O estoque de segurança desejado é de 525 produtos \n"
     ]
    }
   ],
   "source": [
    "estoque_desejado = z * np.sqrt((desvio_padrao_vendas ** 2) * media_lead_time)\n",
    "print(f'O estoque de segurança desejado é de {int(estoque_desejado)} produtos ')"
   ]
  }
 ],
 "metadata": {
  "kernelspec": {
   "display_name": "Python 3",
   "language": "python",
   "name": "python3"
  },
  "language_info": {
   "codemirror_mode": {
    "name": "ipython",
    "version": 3
   },
   "file_extension": ".py",
   "mimetype": "text/x-python",
   "name": "python",
   "nbconvert_exporter": "python",
   "pygments_lexer": "ipython3",
   "version": "3.9.12"
  }
 },
 "nbformat": 4,
 "nbformat_minor": 5
}
