{
 "cells": [
  {
   "cell_type": "markdown",
   "id": "ce1bd9fe",
   "metadata": {},
   "source": [
    "# Entendendo os Estudantes"
   ]
  },
  {
   "cell_type": "markdown",
   "id": "e61a7890",
   "metadata": {},
   "source": [
    "Esse desafio proposto no Bootcamp Tech Minas tem como objetivo responder algumas perguntas através da análise de dados, aprofundando o conhecimento em frequência e medidas.\n",
    "\n",
    "Os dados que deverão ser utilizado nesse script foram baixados do [kaggle](\n",
    "https://www.kaggle.com/spscientist/students-performance-in-exams). Este conjunto de dados consiste nas notas obtidas pelos alunos em várias disciplinas e suas informações pessoais.\n",
    "\n",
    "**Variáveis:**\n",
    "\n",
    "● gender - gênero do aluno<br>\n",
    "● race/ethnicity - raça/etnia dos alunos<br>\n",
    "● parental level of education - grau de escolaridade dos pais<br>\n",
    "● lunch - tipo de almoço<br>\n",
    "● test preparation course - indica se fez curso preparatório<br>\n",
    "● math score - nota na prova de matematica<br>\n",
    "● reading score - nota na prova de leitura<br>\n",
    "● writing score - nota na prova de escrita<br>"
   ]
  },
  {
   "cell_type": "markdown",
   "id": "92ce9efc",
   "metadata": {},
   "source": [
    "# Bibliotecas"
   ]
  },
  {
   "cell_type": "code",
   "execution_count": 37,
   "id": "66f66023",
   "metadata": {},
   "outputs": [],
   "source": [
    "import pandas as pd\n",
    "import matplotlib.pyplot as plt"
   ]
  },
  {
   "cell_type": "markdown",
   "id": "743a4d7e",
   "metadata": {},
   "source": [
    "# Análise Exploratória"
   ]
  },
  {
   "cell_type": "code",
   "execution_count": 5,
   "id": "73b9d535",
   "metadata": {},
   "outputs": [
    {
     "data": {
      "text/html": [
       "<div>\n",
       "<style scoped>\n",
       "    .dataframe tbody tr th:only-of-type {\n",
       "        vertical-align: middle;\n",
       "    }\n",
       "\n",
       "    .dataframe tbody tr th {\n",
       "        vertical-align: top;\n",
       "    }\n",
       "\n",
       "    .dataframe thead th {\n",
       "        text-align: right;\n",
       "    }\n",
       "</style>\n",
       "<table border=\"1\" class=\"dataframe\">\n",
       "  <thead>\n",
       "    <tr style=\"text-align: right;\">\n",
       "      <th></th>\n",
       "      <th>gender</th>\n",
       "      <th>race/ethnicity</th>\n",
       "      <th>parental level of education</th>\n",
       "      <th>lunch</th>\n",
       "      <th>test preparation course</th>\n",
       "      <th>math score</th>\n",
       "      <th>reading score</th>\n",
       "      <th>writing score</th>\n",
       "    </tr>\n",
       "  </thead>\n",
       "  <tbody>\n",
       "    <tr>\n",
       "      <th>0</th>\n",
       "      <td>female</td>\n",
       "      <td>group B</td>\n",
       "      <td>bachelor's degree</td>\n",
       "      <td>standard</td>\n",
       "      <td>none</td>\n",
       "      <td>72</td>\n",
       "      <td>72</td>\n",
       "      <td>74</td>\n",
       "    </tr>\n",
       "    <tr>\n",
       "      <th>1</th>\n",
       "      <td>female</td>\n",
       "      <td>group C</td>\n",
       "      <td>some college</td>\n",
       "      <td>standard</td>\n",
       "      <td>completed</td>\n",
       "      <td>69</td>\n",
       "      <td>90</td>\n",
       "      <td>88</td>\n",
       "    </tr>\n",
       "    <tr>\n",
       "      <th>2</th>\n",
       "      <td>female</td>\n",
       "      <td>group B</td>\n",
       "      <td>master's degree</td>\n",
       "      <td>standard</td>\n",
       "      <td>none</td>\n",
       "      <td>90</td>\n",
       "      <td>95</td>\n",
       "      <td>93</td>\n",
       "    </tr>\n",
       "    <tr>\n",
       "      <th>3</th>\n",
       "      <td>male</td>\n",
       "      <td>group A</td>\n",
       "      <td>associate's degree</td>\n",
       "      <td>free/reduced</td>\n",
       "      <td>none</td>\n",
       "      <td>47</td>\n",
       "      <td>57</td>\n",
       "      <td>44</td>\n",
       "    </tr>\n",
       "    <tr>\n",
       "      <th>4</th>\n",
       "      <td>male</td>\n",
       "      <td>group C</td>\n",
       "      <td>some college</td>\n",
       "      <td>standard</td>\n",
       "      <td>none</td>\n",
       "      <td>76</td>\n",
       "      <td>78</td>\n",
       "      <td>75</td>\n",
       "    </tr>\n",
       "  </tbody>\n",
       "</table>\n",
       "</div>"
      ],
      "text/plain": [
       "   gender race/ethnicity parental level of education         lunch  \\\n",
       "0  female        group B           bachelor's degree      standard   \n",
       "1  female        group C                some college      standard   \n",
       "2  female        group B             master's degree      standard   \n",
       "3    male        group A          associate's degree  free/reduced   \n",
       "4    male        group C                some college      standard   \n",
       "\n",
       "  test preparation course  math score  reading score  writing score  \n",
       "0                    none          72             72             74  \n",
       "1               completed          69             90             88  \n",
       "2                    none          90             95             93  \n",
       "3                    none          47             57             44  \n",
       "4                    none          76             78             75  "
      ]
     },
     "execution_count": 5,
     "metadata": {},
     "output_type": "execute_result"
    }
   ],
   "source": [
    "df = pd.read_csv(\"Data/StudentsPerformance.csv\")\n",
    "df.head()"
   ]
  },
  {
   "cell_type": "code",
   "execution_count": 6,
   "id": "02f71520",
   "metadata": {},
   "outputs": [
    {
     "data": {
      "text/html": [
       "<div>\n",
       "<style scoped>\n",
       "    .dataframe tbody tr th:only-of-type {\n",
       "        vertical-align: middle;\n",
       "    }\n",
       "\n",
       "    .dataframe tbody tr th {\n",
       "        vertical-align: top;\n",
       "    }\n",
       "\n",
       "    .dataframe thead th {\n",
       "        text-align: right;\n",
       "    }\n",
       "</style>\n",
       "<table border=\"1\" class=\"dataframe\">\n",
       "  <thead>\n",
       "    <tr style=\"text-align: right;\">\n",
       "      <th></th>\n",
       "      <th>gender</th>\n",
       "      <th>race/ethnicity</th>\n",
       "      <th>parental level of education</th>\n",
       "      <th>lunch</th>\n",
       "      <th>test preparation course</th>\n",
       "      <th>math score</th>\n",
       "      <th>reading score</th>\n",
       "      <th>writing score</th>\n",
       "    </tr>\n",
       "  </thead>\n",
       "  <tbody>\n",
       "    <tr>\n",
       "      <th>995</th>\n",
       "      <td>female</td>\n",
       "      <td>group E</td>\n",
       "      <td>master's degree</td>\n",
       "      <td>standard</td>\n",
       "      <td>completed</td>\n",
       "      <td>88</td>\n",
       "      <td>99</td>\n",
       "      <td>95</td>\n",
       "    </tr>\n",
       "    <tr>\n",
       "      <th>996</th>\n",
       "      <td>male</td>\n",
       "      <td>group C</td>\n",
       "      <td>high school</td>\n",
       "      <td>free/reduced</td>\n",
       "      <td>none</td>\n",
       "      <td>62</td>\n",
       "      <td>55</td>\n",
       "      <td>55</td>\n",
       "    </tr>\n",
       "    <tr>\n",
       "      <th>997</th>\n",
       "      <td>female</td>\n",
       "      <td>group C</td>\n",
       "      <td>high school</td>\n",
       "      <td>free/reduced</td>\n",
       "      <td>completed</td>\n",
       "      <td>59</td>\n",
       "      <td>71</td>\n",
       "      <td>65</td>\n",
       "    </tr>\n",
       "    <tr>\n",
       "      <th>998</th>\n",
       "      <td>female</td>\n",
       "      <td>group D</td>\n",
       "      <td>some college</td>\n",
       "      <td>standard</td>\n",
       "      <td>completed</td>\n",
       "      <td>68</td>\n",
       "      <td>78</td>\n",
       "      <td>77</td>\n",
       "    </tr>\n",
       "    <tr>\n",
       "      <th>999</th>\n",
       "      <td>female</td>\n",
       "      <td>group D</td>\n",
       "      <td>some college</td>\n",
       "      <td>free/reduced</td>\n",
       "      <td>none</td>\n",
       "      <td>77</td>\n",
       "      <td>86</td>\n",
       "      <td>86</td>\n",
       "    </tr>\n",
       "  </tbody>\n",
       "</table>\n",
       "</div>"
      ],
      "text/plain": [
       "     gender race/ethnicity parental level of education         lunch  \\\n",
       "995  female        group E             master's degree      standard   \n",
       "996    male        group C                 high school  free/reduced   \n",
       "997  female        group C                 high school  free/reduced   \n",
       "998  female        group D                some college      standard   \n",
       "999  female        group D                some college  free/reduced   \n",
       "\n",
       "    test preparation course  math score  reading score  writing score  \n",
       "995               completed          88             99             95  \n",
       "996                    none          62             55             55  \n",
       "997               completed          59             71             65  \n",
       "998               completed          68             78             77  \n",
       "999                    none          77             86             86  "
      ]
     },
     "execution_count": 6,
     "metadata": {},
     "output_type": "execute_result"
    }
   ],
   "source": [
    "df.tail()"
   ]
  },
  {
   "cell_type": "code",
   "execution_count": 14,
   "id": "20379c7f",
   "metadata": {},
   "outputs": [
    {
     "data": {
      "text/plain": [
       "(1000, 8)"
      ]
     },
     "execution_count": 14,
     "metadata": {},
     "output_type": "execute_result"
    }
   ],
   "source": [
    "df.shape"
   ]
  },
  {
   "cell_type": "code",
   "execution_count": 7,
   "id": "a5d31a62",
   "metadata": {},
   "outputs": [
    {
     "name": "stdout",
     "output_type": "stream",
     "text": [
      "<class 'pandas.core.frame.DataFrame'>\n",
      "RangeIndex: 1000 entries, 0 to 999\n",
      "Data columns (total 8 columns):\n",
      " #   Column                       Non-Null Count  Dtype \n",
      "---  ------                       --------------  ----- \n",
      " 0   gender                       1000 non-null   object\n",
      " 1   race/ethnicity               1000 non-null   object\n",
      " 2   parental level of education  1000 non-null   object\n",
      " 3   lunch                        1000 non-null   object\n",
      " 4   test preparation course      1000 non-null   object\n",
      " 5   math score                   1000 non-null   int64 \n",
      " 6   reading score                1000 non-null   int64 \n",
      " 7   writing score                1000 non-null   int64 \n",
      "dtypes: int64(3), object(5)\n",
      "memory usage: 62.6+ KB\n"
     ]
    }
   ],
   "source": [
    "df.info()"
   ]
  },
  {
   "cell_type": "code",
   "execution_count": 8,
   "id": "a6d4e5f4",
   "metadata": {},
   "outputs": [
    {
     "data": {
      "text/html": [
       "<div>\n",
       "<style scoped>\n",
       "    .dataframe tbody tr th:only-of-type {\n",
       "        vertical-align: middle;\n",
       "    }\n",
       "\n",
       "    .dataframe tbody tr th {\n",
       "        vertical-align: top;\n",
       "    }\n",
       "\n",
       "    .dataframe thead th {\n",
       "        text-align: right;\n",
       "    }\n",
       "</style>\n",
       "<table border=\"1\" class=\"dataframe\">\n",
       "  <thead>\n",
       "    <tr style=\"text-align: right;\">\n",
       "      <th></th>\n",
       "      <th>math score</th>\n",
       "      <th>reading score</th>\n",
       "      <th>writing score</th>\n",
       "    </tr>\n",
       "  </thead>\n",
       "  <tbody>\n",
       "    <tr>\n",
       "      <th>count</th>\n",
       "      <td>1000.00000</td>\n",
       "      <td>1000.000000</td>\n",
       "      <td>1000.000000</td>\n",
       "    </tr>\n",
       "    <tr>\n",
       "      <th>mean</th>\n",
       "      <td>66.08900</td>\n",
       "      <td>69.169000</td>\n",
       "      <td>68.054000</td>\n",
       "    </tr>\n",
       "    <tr>\n",
       "      <th>std</th>\n",
       "      <td>15.16308</td>\n",
       "      <td>14.600192</td>\n",
       "      <td>15.195657</td>\n",
       "    </tr>\n",
       "    <tr>\n",
       "      <th>min</th>\n",
       "      <td>0.00000</td>\n",
       "      <td>17.000000</td>\n",
       "      <td>10.000000</td>\n",
       "    </tr>\n",
       "    <tr>\n",
       "      <th>25%</th>\n",
       "      <td>57.00000</td>\n",
       "      <td>59.000000</td>\n",
       "      <td>57.750000</td>\n",
       "    </tr>\n",
       "    <tr>\n",
       "      <th>50%</th>\n",
       "      <td>66.00000</td>\n",
       "      <td>70.000000</td>\n",
       "      <td>69.000000</td>\n",
       "    </tr>\n",
       "    <tr>\n",
       "      <th>75%</th>\n",
       "      <td>77.00000</td>\n",
       "      <td>79.000000</td>\n",
       "      <td>79.000000</td>\n",
       "    </tr>\n",
       "    <tr>\n",
       "      <th>max</th>\n",
       "      <td>100.00000</td>\n",
       "      <td>100.000000</td>\n",
       "      <td>100.000000</td>\n",
       "    </tr>\n",
       "  </tbody>\n",
       "</table>\n",
       "</div>"
      ],
      "text/plain": [
       "       math score  reading score  writing score\n",
       "count  1000.00000    1000.000000    1000.000000\n",
       "mean     66.08900      69.169000      68.054000\n",
       "std      15.16308      14.600192      15.195657\n",
       "min       0.00000      17.000000      10.000000\n",
       "25%      57.00000      59.000000      57.750000\n",
       "50%      66.00000      70.000000      69.000000\n",
       "75%      77.00000      79.000000      79.000000\n",
       "max     100.00000     100.000000     100.000000"
      ]
     },
     "execution_count": 8,
     "metadata": {},
     "output_type": "execute_result"
    }
   ],
   "source": [
    "df.describe()"
   ]
  },
  {
   "cell_type": "code",
   "execution_count": 10,
   "id": "0ed4857a",
   "metadata": {},
   "outputs": [
    {
     "data": {
      "text/plain": [
       "array(['group B', 'group C', 'group A', 'group D', 'group E'],\n",
       "      dtype=object)"
      ]
     },
     "execution_count": 10,
     "metadata": {},
     "output_type": "execute_result"
    }
   ],
   "source": [
    "df[\"race/ethnicity\"].unique()"
   ]
  },
  {
   "cell_type": "code",
   "execution_count": 11,
   "id": "3a7b7f52",
   "metadata": {},
   "outputs": [
    {
     "data": {
      "text/plain": [
       "array([\"bachelor's degree\", 'some college', \"master's degree\",\n",
       "       \"associate's degree\", 'high school', 'some high school'],\n",
       "      dtype=object)"
      ]
     },
     "execution_count": 11,
     "metadata": {},
     "output_type": "execute_result"
    }
   ],
   "source": [
    "df[\"parental level of education\"].unique()"
   ]
  },
  {
   "cell_type": "code",
   "execution_count": 12,
   "id": "58feb50d",
   "metadata": {},
   "outputs": [
    {
     "data": {
      "text/plain": [
       "array(['standard', 'free/reduced'], dtype=object)"
      ]
     },
     "execution_count": 12,
     "metadata": {},
     "output_type": "execute_result"
    }
   ],
   "source": [
    "df[\"lunch\"].unique()"
   ]
  },
  {
   "cell_type": "code",
   "execution_count": 13,
   "id": "46136ed2",
   "metadata": {},
   "outputs": [
    {
     "data": {
      "text/plain": [
       "array(['none', 'completed'], dtype=object)"
      ]
     },
     "execution_count": 13,
     "metadata": {},
     "output_type": "execute_result"
    }
   ],
   "source": [
    "df[\"test preparation course\"].unique()"
   ]
  },
  {
   "cell_type": "markdown",
   "id": "63b5f61c",
   "metadata": {},
   "source": [
    "# Processamento de Dados"
   ]
  },
  {
   "cell_type": "markdown",
   "id": "fc87833b",
   "metadata": {},
   "source": [
    "**1. Qual a quantidade de alunos em cada grupo racial/étnico ?**"
   ]
  },
  {
   "cell_type": "code",
   "execution_count": 18,
   "id": "9f929a0d",
   "metadata": {},
   "outputs": [
    {
     "data": {
      "text/plain": [
       "group C    319\n",
       "group D    262\n",
       "group B    190\n",
       "group E    140\n",
       "group A     89\n",
       "Name: race/ethnicity, dtype: int64"
      ]
     },
     "execution_count": 18,
     "metadata": {},
     "output_type": "execute_result"
    }
   ],
   "source": [
    "df_race = df[\"race/ethnicity\"].value_counts()\n",
    "df_race"
   ]
  },
  {
   "cell_type": "markdown",
   "id": "80320dda",
   "metadata": {},
   "source": [
    "**2. Qual a quantidade de alunos de cada gênero? Existem mais alunos do gênero masculino ou feminino?**"
   ]
  },
  {
   "cell_type": "code",
   "execution_count": 22,
   "id": "0940b654",
   "metadata": {},
   "outputs": [
    {
     "name": "stdout",
     "output_type": "stream",
     "text": [
      "A quantidade de pessoas do gênero masculino é: 482\n"
     ]
    }
   ],
   "source": [
    "df_male = df[\"gender\"].loc[df[\"gender\"]=='male'].value_counts()\n",
    "print(f\"A quantidade de pessoas do gênero masculino é: {df_male[0]}\")"
   ]
  },
  {
   "cell_type": "code",
   "execution_count": 23,
   "id": "46e0d212",
   "metadata": {},
   "outputs": [
    {
     "name": "stdout",
     "output_type": "stream",
     "text": [
      "A quantidade de pessoas do gênero feminino é: 518\n"
     ]
    }
   ],
   "source": [
    "df_female = df[\"gender\"].loc[df[\"gender\"]=='female'].value_counts()\n",
    "print(f\"A quantidade de pessoas do gênero feminino é: {df_female[0]}\")"
   ]
  },
  {
   "cell_type": "markdown",
   "id": "aee277dc",
   "metadata": {},
   "source": [
    "**3. Analise as notas de matemática dos alunos de forma mais completa possível**"
   ]
  },
  {
   "cell_type": "code",
   "execution_count": 29,
   "id": "3262e535",
   "metadata": {},
   "outputs": [
    {
     "name": "stdout",
     "output_type": "stream",
     "text": [
      "A média total das notas de matemática é: 66.09\n",
      "O desvio absoluto total das notas de matemática é: 12.02\n",
      "A variância total das notas de matemática é: 229.92\n",
      "O desvio padrão total das notas de matemática é: 15.16\n"
     ]
    }
   ],
   "source": [
    "print(f'A média total das notas de matemática é: {round(df[\"math score\"].mean(),2)}')\n",
    "print(f'O desvio absoluto total das notas de matemática é: {round(df[\"math score\"].mad(),2)}')\n",
    "print(f'A variância total das notas de matemática é: {round(df[\"math score\"].var(),2)}')\n",
    "print(f'O desvio padrão total das notas de matemática é: {round(df[\"math score\"].std(),2)}')"
   ]
  },
  {
   "cell_type": "markdown",
   "id": "15257ea3",
   "metadata": {},
   "source": [
    "*Analisando as notas de matemática através de um recorte de gênero*"
   ]
  },
  {
   "cell_type": "code",
   "execution_count": 33,
   "id": "bc848dbe",
   "metadata": {},
   "outputs": [
    {
     "name": "stdout",
     "output_type": "stream",
     "text": [
      "A média das notas de matemática entre os homens é: 68.73\n",
      "O desvio absoluto das notas de matemática entre os homens é: 11.68\n",
      "A variância das notas de matemática entre os homens é: 206.1\n",
      "O desvio padrão das notas de matemática entre os homens é: 14.36\n"
     ]
    }
   ],
   "source": [
    "mean_male = df[\"math score\"].loc[df[\"gender\"]=='male'].mean()\n",
    "mean_abs_male = df[\"math score\"].loc[df[\"gender\"]=='male'].mad()\n",
    "var_male = df[\"math score\"].loc[df[\"gender\"]=='male'].var()\n",
    "std_male = df[\"math score\"].loc[df[\"gender\"]=='male'].std()\n",
    "\n",
    "print(f\"A média das notas de matemática entre os homens é: {round(mean_male,2)}\")\n",
    "print(f\"O desvio absoluto das notas de matemática entre os homens é: {round(mean_abs_male,2)}\")\n",
    "print(f\"A variância das notas de matemática entre os homens é: {round(var_male,2)}\")\n",
    "print(f\"O desvio padrão das notas de matemática entre os homens é: {round(std_male,2)}\")"
   ]
  },
  {
   "cell_type": "code",
   "execution_count": 34,
   "id": "0bf9f98f",
   "metadata": {},
   "outputs": [
    {
     "name": "stdout",
     "output_type": "stream",
     "text": [
      "A média das notas de matemática entre as mulheres é: 63.63\n",
      "O desvio absoluto das notas de matemática entre as mulheres é: 12.04\n",
      "A variância das notas de matemática entre as mulheres é: 239.99\n",
      "O desvio padrão das notas de matemática entre as mulheres é: 15.49\n"
     ]
    }
   ],
   "source": [
    "mean_female = df[\"math score\"].loc[df[\"gender\"]=='female'].mean()\n",
    "mean_abs_female = df[\"math score\"].loc[df[\"gender\"]=='female'].mad()\n",
    "var_female = df[\"math score\"].loc[df[\"gender\"]=='female'].var()\n",
    "std_female = df[\"math score\"].loc[df[\"gender\"]=='female'].std()\n",
    "\n",
    "print(f\"A média das notas de matemática entre as mulheres é: {round(mean_female,2)}\")\n",
    "print(f\"O desvio absoluto das notas de matemática entre as mulheres é: {round(mean_abs_female,2)}\")\n",
    "print(f\"A variância das notas de matemática entre as mulheres é: {round(var_female,2)}\")\n",
    "print(f\"O desvio padrão das notas de matemática entre as mulheres é: {round(std_female,2)}\")"
   ]
  },
  {
   "cell_type": "markdown",
   "id": "a01adbc4",
   "metadata": {},
   "source": [
    "Observa-se que os homens possuem uma média maior (68.73) que as mulheres (63.63) e menor desvio padrão, ou seja, a amostra de dados masculina (14.36) possui uma variação menor do que a feminina (15.49)"
   ]
  },
  {
   "cell_type": "markdown",
   "id": "6433ded2",
   "metadata": {},
   "source": [
    "*Analisando as notas através do maior e menor grau de escolaridade dos pais*"
   ]
  },
  {
   "cell_type": "code",
   "execution_count": 36,
   "id": "7a2777ff",
   "metadata": {},
   "outputs": [
    {
     "name": "stdout",
     "output_type": "stream",
     "text": [
      "Média do alunos com pais com Mestrado: 69.75\n",
      "Desvio Padrão do alunos com pais com Mestrado: 15.15\n",
      "\n",
      "Média do alunos com pais com algum nível de Ensino Médio: 63.5\n",
      "Desvio Padrão do alunos com pais com algum nível de Ensino Médio: 15.93\n"
     ]
    }
   ],
   "source": [
    "mean_master = df[\"math score\"].loc[df[\"parental level of education\"]==\"master's degree\"].mean()\n",
    "std_master = df[\"math score\"].loc[df[\"parental level of education\"]==\"master's degree\"].std()\n",
    "\n",
    "mean_some_highschool = df[\"math score\"].loc[df[\"parental level of education\"]==\"some high school\"].mean()\n",
    "std_some_highschool = df[\"math score\"].loc[df[\"parental level of education\"]==\"some high school\"].std()\n",
    "\n",
    "print(f\"Média do alunos com pais com Mestrado: {round(mean_master,2)}\")\n",
    "print(f\"Desvio Padrão do alunos com pais com Mestrado: {round(std_master,2)}\\n\")\n",
    "\n",
    "print(f\"Média do alunos com pais com algum nível de Ensino Médio: {round(mean_some_highschool,2)}\")\n",
    "print(f\"Desvio Padrão do alunos com pais com algum nível de Ensino Médio: {round(std_some_highschool,2)}\")"
   ]
  },
  {
   "cell_type": "markdown",
   "id": "341ff03a",
   "metadata": {},
   "source": [
    "Observa-se que os alunos, cujos pais possuem um maior nível educacional, possuem uma média de notas de matemática maior (69.75) do que aqueles nos quais os pais têm o ensino médio incompleto. Entretanto, as notas apresentam apenas uma pequena diferença em sua dispersão, já que o desvio padrão dos alunos com pais com Mestrado é ligeiramente menor do que os com ensino médio incompleto."
   ]
  },
  {
   "cell_type": "markdown",
   "id": "a58fbdd3",
   "metadata": {},
   "source": [
    "# Visualização dos Dados"
   ]
  },
  {
   "cell_type": "markdown",
   "id": "7ccefae3",
   "metadata": {},
   "source": [
    "**4. Qual a nota média dos alunos segundo o grau de escolaridade dos pais?**"
   ]
  },
  {
   "cell_type": "code",
   "execution_count": null,
   "id": "a10d6bad",
   "metadata": {},
   "outputs": [],
   "source": []
  },
  {
   "cell_type": "markdown",
   "id": "e7ba546b",
   "metadata": {},
   "source": [
    "**5. Verifique gráficamente a relação da nota de leitura e de escrita.**"
   ]
  },
  {
   "cell_type": "code",
   "execution_count": null,
   "id": "9e99a033",
   "metadata": {},
   "outputs": [],
   "source": []
  }
 ],
 "metadata": {
  "kernelspec": {
   "display_name": "Python 3",
   "language": "python",
   "name": "python3"
  },
  "language_info": {
   "codemirror_mode": {
    "name": "ipython",
    "version": 3
   },
   "file_extension": ".py",
   "mimetype": "text/x-python",
   "name": "python",
   "nbconvert_exporter": "python",
   "pygments_lexer": "ipython3",
   "version": "3.9.12"
  }
 },
 "nbformat": 4,
 "nbformat_minor": 5
}
